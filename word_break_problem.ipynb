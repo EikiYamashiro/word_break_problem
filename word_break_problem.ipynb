{
 "cells": [
  {
   "cell_type": "markdown",
   "metadata": {},
   "source": [
    "# Algoritmo Recursivo para o Problema da Quebra de Palavra\n",
    "\n",
    "#### Desafios de Programação | 5º Semestre | Engenharia da Computação\n",
    "#### Eiki Luis Yamashiro | Marcelo Cesário Miguel"
   ]
  },
  {
   "cell_type": "code",
   "execution_count": 43,
   "metadata": {},
   "outputs": [],
   "source": [
    "from funcoes import *\n",
    "dic1 = ['amo', 'eba', 'amoeba']\n",
    "dic2 = ['a', 'amo', 'eba', 'amoeba']"
   ]
  },
  {
   "cell_type": "markdown",
   "metadata": {},
   "source": [
    "### Algoritmo Recursivo"
   ]
  },
  {
   "cell_type": "markdown",
   "metadata": {},
   "source": [
    "A ideia principal do algoritmo recursivo, como apresentado no Handout, é percorrer a palavra baseado em duas palavras menores: o prefixo e o sufixo. Assim, em cada chamada recursiva, é possível verificar se o prefixo está presente no dicionário e realizar a operação definida para os caso dessa verificação."
   ]
  },
  {
   "cell_type": "code",
   "execution_count": 5,
   "metadata": {},
   "outputs": [],
   "source": [
    "def wordBreak(wordList,word):\n",
    "    if word == '':\n",
    "        return True\n",
    "\n",
    "    wordLen = len(word)\n",
    "\n",
    "    for i in range(1,wordLen+1):\n",
    "        prefix = word[:i]\n",
    "        time.sleep(.5)\n",
    "        print(\"prefixo: \", prefix)\n",
    "\n",
    "        if prefix in wordList:\n",
    "            suffix = word[i:]\n",
    "            return wordBreak(wordList,suffix)\n",
    "            \n",
    "    return False"
   ]
  },
  {
   "cell_type": "markdown",
   "metadata": {},
   "source": [
    "### Uma função mais eficiente"
   ]
  },
  {
   "cell_type": "markdown",
   "metadata": {},
   "source": [
    "Embora a função a seguir não seja 100% Dinâmica, ela permite com que os problemas da primeira não ocorram mais. "
   ]
  },
  {
   "cell_type": "code",
   "execution_count": 38,
   "metadata": {},
   "outputs": [],
   "source": [
    "def wordBreak_better(wordList,word, lookup):\n",
    "    wordLen = len(word)\n",
    "\n",
    "    if wordLen == 0:\n",
    "        return True\n",
    "\n",
    "    if lookup[wordLen] == -1:\n",
    "        lookup[wordLen] = 0\n",
    "\n",
    "        for i in range(1,wordLen+1):\n",
    "            prefix = word[:i]\n",
    "            suffix = word[i:]\n",
    "            time.sleep(.5)\n",
    "            print(\"prefixo: \", prefix)\n",
    "            \n",
    "            if prefix in wordList and wordBreak_better(wordList,suffix,lookup):\n",
    "                lookup[wordLen] = 1\n",
    "                \n",
    "                return True\n",
    "    return lookup[wordLen] == 1"
   ]
  },
  {
   "cell_type": "markdown",
   "metadata": {},
   "source": [
    "### Comparando as duas funções"
   ]
  },
  {
   "cell_type": "markdown",
   "metadata": {},
   "source": [
    "Rode o código abaixo e insira \"amoeba\" como a palavra de entrada e veja os resultados. Utilizamos um time.sleep para que a forma como as funções funcionam sejam mais didática, porém fiquem a vontade para modificar as funções!"
   ]
  },
  {
   "cell_type": "code",
   "execution_count": 44,
   "metadata": {},
   "outputs": [
    {
     "name": "stdout",
     "output_type": "stream",
     "text": [
      "Digite uma palavra: amoeba\n",
      " \n",
      "===================Word==Break=====================\n",
      " \n",
      "Para a Lista de Palavras:  ['amo', 'eba', 'amoeba']\n",
      " \n",
      "prefixo:  a\n",
      "prefixo:  am\n",
      "prefixo:  amo\n",
      "prefixo:  e\n",
      "prefixo:  eb\n",
      "prefixo:  eba\n",
      " \n",
      "A saída do programa é:  True\n",
      " \n",
      "-------------------------//-------------------------\n",
      " \n",
      " \n",
      "Para a Lista de Palavras:  ['a', 'amo', 'eba', 'amoeba']\n",
      " \n",
      "prefixo:  a\n",
      "prefixo:  m\n",
      "prefixo:  mo\n",
      "prefixo:  moe\n",
      "prefixo:  moeb\n",
      "prefixo:  moeba\n",
      " \n",
      "A saída do programa é:  False\n",
      " \n",
      "-------------------------//-------------------------\n",
      " \n",
      "===============Word==Break==Better=================\n",
      " \n",
      "Para a Lista de Palavras:  ['a', 'amo', 'eba', 'amoeba']\n",
      " \n",
      "prefixo:  a\n",
      "prefixo:  m\n",
      "prefixo:  mo\n",
      "prefixo:  moe\n",
      "prefixo:  moeb\n",
      "prefixo:  moeba\n",
      "prefixo:  am\n",
      "prefixo:  amo\n",
      "prefixo:  e\n",
      "prefixo:  eb\n",
      "prefixo:  eba\n",
      " \n",
      "A saída do programa é:  True\n",
      " \n",
      "-------------------------//-------------------------\n",
      " \n"
     ]
    }
   ],
   "source": [
    "entrada = input(\"Digite uma palavra: \")\n",
    "print(\" \")\n",
    "print(\"===================Word==Break=====================\")\n",
    "print_resultados(wordBreak, dic1, entrada)\n",
    "print_resultados(wordBreak, dic2, entrada)\n",
    "\n",
    "print(\"===============Word==Break==Better=================\")\n",
    "lookup = [-1]*(len(entrada)+1)\n",
    "print_better(wordBreak_better, dic2, entrada, lookup)"
   ]
  },
  {
   "cell_type": "code",
   "execution_count": null,
   "metadata": {},
   "outputs": [],
   "source": []
  }
 ],
 "metadata": {
  "kernelspec": {
   "display_name": "Python 3",
   "language": "python",
   "name": "python3"
  },
  "language_info": {
   "codemirror_mode": {
    "name": "ipython",
    "version": 3
   },
   "file_extension": ".py",
   "mimetype": "text/x-python",
   "name": "python",
   "nbconvert_exporter": "python",
   "pygments_lexer": "ipython3",
   "version": "3.8.3"
  }
 },
 "nbformat": 4,
 "nbformat_minor": 4
}
